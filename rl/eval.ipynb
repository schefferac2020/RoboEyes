{
 "cells": [
  {
   "cell_type": "markdown",
   "metadata": {},
   "source": [
    "## Evaluation"
   ]
  },
  {
   "cell_type": "code",
   "execution_count": 1,
   "metadata": {},
   "outputs": [],
   "source": [
    "'''runs/custom-ppo-rgb-Socker-v1-/ckpt_126.pt'''\n",
    "\n",
    "import envs.soccer_play"
   ]
  },
  {
   "cell_type": "code",
   "execution_count": 8,
   "metadata": {},
   "outputs": [
    {
     "name": "stdout",
     "output_type": "stream",
     "text": [
      "|===========================================================================|\n",
      "|                  PyTorch CUDA memory summary, device ID 0                 |\n",
      "|---------------------------------------------------------------------------|\n",
      "|            CUDA OOMs: 0            |        cudaMalloc retries: 0         |\n",
      "|===========================================================================|\n",
      "|        Metric         | Cur Usage  | Peak Usage | Tot Alloc  | Tot Freed  |\n",
      "|---------------------------------------------------------------------------|\n",
      "| Allocated memory      |      0 B   |      0 B   |      0 B   |      0 B   |\n",
      "|       from large pool |      0 B   |      0 B   |      0 B   |      0 B   |\n",
      "|       from small pool |      0 B   |      0 B   |      0 B   |      0 B   |\n",
      "|---------------------------------------------------------------------------|\n",
      "| Active memory         |      0 B   |      0 B   |      0 B   |      0 B   |\n",
      "|       from large pool |      0 B   |      0 B   |      0 B   |      0 B   |\n",
      "|       from small pool |      0 B   |      0 B   |      0 B   |      0 B   |\n",
      "|---------------------------------------------------------------------------|\n",
      "| Requested memory      |      0 B   |      0 B   |      0 B   |      0 B   |\n",
      "|       from large pool |      0 B   |      0 B   |      0 B   |      0 B   |\n",
      "|       from small pool |      0 B   |      0 B   |      0 B   |      0 B   |\n",
      "|---------------------------------------------------------------------------|\n",
      "| GPU reserved memory   |      0 B   |      0 B   |      0 B   |      0 B   |\n",
      "|       from large pool |      0 B   |      0 B   |      0 B   |      0 B   |\n",
      "|       from small pool |      0 B   |      0 B   |      0 B   |      0 B   |\n",
      "|---------------------------------------------------------------------------|\n",
      "| Non-releasable memory |      0 B   |      0 B   |      0 B   |      0 B   |\n",
      "|       from large pool |      0 B   |      0 B   |      0 B   |      0 B   |\n",
      "|       from small pool |      0 B   |      0 B   |      0 B   |      0 B   |\n",
      "|---------------------------------------------------------------------------|\n",
      "| Allocations           |       0    |       0    |       0    |       0    |\n",
      "|       from large pool |       0    |       0    |       0    |       0    |\n",
      "|       from small pool |       0    |       0    |       0    |       0    |\n",
      "|---------------------------------------------------------------------------|\n",
      "| Active allocs         |       0    |       0    |       0    |       0    |\n",
      "|       from large pool |       0    |       0    |       0    |       0    |\n",
      "|       from small pool |       0    |       0    |       0    |       0    |\n",
      "|---------------------------------------------------------------------------|\n",
      "| GPU reserved segments |       0    |       0    |       0    |       0    |\n",
      "|       from large pool |       0    |       0    |       0    |       0    |\n",
      "|       from small pool |       0    |       0    |       0    |       0    |\n",
      "|---------------------------------------------------------------------------|\n",
      "| Non-releasable allocs |       0    |       0    |       0    |       0    |\n",
      "|       from large pool |       0    |       0    |       0    |       0    |\n",
      "|       from small pool |       0    |       0    |       0    |       0    |\n",
      "|---------------------------------------------------------------------------|\n",
      "| Oversize allocations  |       0    |       0    |       0    |       0    |\n",
      "|---------------------------------------------------------------------------|\n",
      "| Oversize GPU segments |       0    |       0    |       0    |       0    |\n",
      "|===========================================================================|\n",
      "\n",
      "These are the env_kwargs {'obs_mode': 'rgb', 'render_mode': 'all', 'sim_backend': 'gpu', 'control_mode': 'pd_joint_pos_passive_base'}\n",
      "/home/Morphabledrone/miniconda3/envs/mani/lib/python3.10/site-packages/torch/random.py:183: UserWarning: CUDA reports that you have 2 available devices, and you have used fork_rng without explicitly specifying which devices are being used. For safety, we initialize *every* CUDA device by default, which can be quite slow if you have a lot of CUDAs. If you know that you are only making use of a few CUDA devices, set the environment variable CUDA_VISIBLE_DEVICES or the 'devices' keyword argument of fork_rng with the set of devices you are actually using. For example, if you are using CPU only, set device.upper()_VISIBLE_DEVICES= or devices=[]; if you are using device 0 only, set CUDA_VISIBLE_DEVICES=0 or devices=[0].  To initialize all devices and suppress this warning, set the 'devices' keyword argument to `range(torch.cuda.device_count())`.\n",
      "  warnings.warn(message)\n",
      "Saving eval videos to runs/custom-ppo-rgb-Socker-v1-pred-dist-Dec13_3/test_videos\n",
      "/home/Morphabledrone/miniconda3/envs/mani/lib/python3.10/site-packages/gymnasium/core.py:311: UserWarning: \u001b[33mWARN: env.max_episode_steps to get variables from other wrappers is deprecated and will be removed in v1.0, to get this variable you can do `env.unwrapped.max_episode_steps` for environment variables or `env.get_wrapper_attr('max_episode_steps')` that will search the reminding wrappers.\u001b[0m\n",
      "  logger.warn(\n",
      "\u001b[33;1m2024-12-13 12:47:19,289 - mani_skill  - WARNING - mani_skill is not installed with git.\u001b[0m\n",
      "/home/Morphabledrone/miniconda3/envs/mani/lib/python3.10/site-packages/gymnasium/core.py:311: UserWarning: \u001b[33mWARN: env.single_observation_space to get variables from other wrappers is deprecated and will be removed in v1.0, to get this variable you can do `env.unwrapped.single_observation_space` for environment variables or `env.get_wrapper_attr('single_observation_space')` that will search the reminding wrappers.\u001b[0m\n",
      "  logger.warn(\n",
      "/home/Morphabledrone/miniconda3/envs/mani/lib/python3.10/site-packages/gymnasium/core.py:311: UserWarning: \u001b[33mWARN: env.single_action_space to get variables from other wrappers is deprecated and will be removed in v1.0, to get this variable you can do `env.unwrapped.single_action_space` for environment variables or `env.get_wrapper_attr('single_action_space')` that will search the reminding wrappers.\u001b[0m\n",
      "  logger.warn(\n",
      "/home/Morphabledrone/miniconda3/envs/mani/lib/python3.10/site-packages/gymnasium/core.py:311: UserWarning: \u001b[33mWARN: env.max_episode_steps to get variables from other wrappers is deprecated and will be removed in v1.0, to get this variable you can do `env.unwrapped.max_episode_steps` for environment variables or `env.get_wrapper_attr('max_episode_steps')` that will search the reminding wrappers.\u001b[0m\n",
      "  logger.warn(\n",
      "Running evaluation\n",
      "####\n",
      "args.num_iterations=195 args.num_envs=512 args.num_eval_envs=1\n",
      "args.minibatch_size=1600 args.batch_size=51200 args.update_epochs=4\n",
      "####\n",
      "The \"state\" key is in sample_obs\n",
      "/home/Morphabledrone/test/drew/mani/rl/ppo_rgb_drew.py:437: FutureWarning: You are using `torch.load` with `weights_only=False` (the current default value), which uses the default pickle module implicitly. It is possible to construct malicious pickle data which will execute arbitrary code during unpickling (See https://github.com/pytorch/pytorch/blob/main/SECURITY.md#untrusted-models for more details). In a future release, the default value for `weights_only` will be flipped to `True`. This limits the functions that could be executed during unpickling. Arbitrary objects will no longer be allowed to be loaded via this mode unless they are explicitly allowlisted by the user via `torch.serialization.add_safe_globals`. We recommend you start setting `weights_only=True` for any use case where you don't have full control of the loaded file. Please open an issue on GitHub for any issues related to this experimental feature.\n",
      "  agent.load_state_dict(torch.load(args.checkpoint))\n",
      "/home/Morphabledrone/test/drew/mani/rl/ppo_rgb_drew.py:438: FutureWarning: You are using `torch.load` with `weights_only=False` (the current default value), which uses the default pickle module implicitly. It is possible to construct malicious pickle data which will execute arbitrary code during unpickling (See https://github.com/pytorch/pytorch/blob/main/SECURITY.md#untrusted-models for more details). In a future release, the default value for `weights_only` will be flipped to `True`. This limits the functions that could be executed during unpickling. Arbitrary objects will no longer be allowed to be loaded via this mode unless they are explicitly allowlisted by the user via `torch.serialization.add_safe_globals`. We recommend you start setting `weights_only=True` for any use case where you don't have full control of the loaded file. Please open an issue on GitHub for any issues related to this experimental feature.\n",
      "  distance_predictor.load_state_dict(torch.load(predictor_checkpoint))\n",
      "Epoch: 1, global_step=0\n",
      "Evaluating\n",
      "Evaluated 300 steps resulting in 3 episodes\n",
      "eval_return_mean=10.000001907348633\n",
      "eval_episode_len_mean=100.0\n",
      "eval_reward_mean=0.10000001639127731\n",
      "[-3.534415372996591e-05, -3.534415372996591e-05, -3.534415372996591e-05, -3.534415372996591e-05, -3.534415372996591e-05, -3.534415372996591e-05, -3.534415372996591e-05, -3.534415372996591e-05, -3.534415372996591e-05, -3.534415372996591e-05, -3.534415372996591e-05, -3.534415372996591e-05, -3.534415372996591e-05, -3.534415372996591e-05, -3.534415372996591e-05, -3.534415372996591e-05, -3.534415372996591e-05, -3.534415372996591e-05, -3.534415372996591e-05, -3.534415372996591e-05, -3.534415372996591e-05, -3.534415372996591e-05, -3.534415372996591e-05, -3.534415372996591e-05, -3.534415372996591e-05, -3.534415372996591e-05, -3.534415372996591e-05, -3.534415372996591e-05, -3.534415372996591e-05, -3.534415372996591e-05, -3.534415372996591e-05, -3.534415372996591e-05, -3.534415372996591e-05, -3.534415372996591e-05, -3.534415372996591e-05, -3.534415372996591e-05, -3.534415372996591e-05, -3.534415372996591e-05, -3.534415372996591e-05, -3.534415372996591e-05, -3.534415372996591e-05, -3.534415372996591e-05, -3.534415372996591e-05, -3.534415372996591e-05, -3.534415372996591e-05, -3.534415372996591e-05, -3.534415372996591e-05, -3.534415372996591e-05, -3.534415372996591e-05, -3.534415372996591e-05, -3.534415372996591e-05, -3.534415372996591e-05, -3.534415372996591e-05, -3.534415372996591e-05, -3.534415372996591e-05, -3.534415372996591e-05, -3.534415372996591e-05, -3.534415372996591e-05, -3.534415372996591e-05, -3.534415372996591e-05, -3.534415372996591e-05, -3.534415372996591e-05, -3.534415372996591e-05, -3.534415372996591e-05, -3.534415372996591e-05, -3.534415372996591e-05, -3.534415372996591e-05, -3.534415372996591e-05, -3.534415372996591e-05, -3.534415372996591e-05, -3.534415372996591e-05, -3.534415372996591e-05, -3.534415372996591e-05, -3.534415372996591e-05, -3.534415372996591e-05, -3.534415372996591e-05, -3.534415372996591e-05, -3.534415372996591e-05, -3.534415372996591e-05, -3.534415372996591e-05, -3.534415372996591e-05, -3.534415372996591e-05, -3.534415372996591e-05, -3.534415372996591e-05, -3.534415372996591e-05, -3.534415372996591e-05, -3.534415372996591e-05, -3.534415372996591e-05, -3.534415372996591e-05, -3.534415372996591e-05, -3.534415372996591e-05, -3.534415372996591e-05, -3.534415372996591e-05, -3.534415372996591e-05, -3.534415372996591e-05, -3.534415372996591e-05, -3.534415372996591e-05, -3.534415372996591e-05, -3.534415372996591e-05, -3.534415372996591e-05, -3.534415372996591e-05, -3.534415372996591e-05, -3.534415372996591e-05, -3.534415372996591e-05, -3.534415372996591e-05, -3.534415372996591e-05, -3.534415372996591e-05, -3.534415372996591e-05, -3.534415372996591e-05, -3.534415372996591e-05, -3.534415372996591e-05, -3.534415372996591e-05, -3.534415372996591e-05, -3.534415372996591e-05, -3.534415372996591e-05, -3.534415372996591e-05, -3.534415372996591e-05, -3.534415372996591e-05, -3.534415372996591e-05, -3.534415372996591e-05, -3.534415372996591e-05, -3.534415372996591e-05, -3.534415372996591e-05, -3.534415372996591e-05, -3.534415372996591e-05, -3.534415372996591e-05, -3.534415372996591e-05, -3.534415372996591e-05, -3.534415372996591e-05, -3.534415372996591e-05, -3.534415372996591e-05, -3.534415372996591e-05, -3.534415372996591e-05, -3.534415372996591e-05, -3.534415372996591e-05, -3.534415372996591e-05, -3.534415372996591e-05, -3.534415372996591e-05, -3.534415372996591e-05, -3.534415372996591e-05, -3.534415372996591e-05, -3.534415372996591e-05, -3.534415372996591e-05, -3.534415372996591e-05, -3.534415372996591e-05, -3.534415372996591e-05, -3.534415372996591e-05, -3.534415372996591e-05, -3.534415372996591e-05, -3.534415372996591e-05, -3.534415372996591e-05, -3.534415372996591e-05, -3.534415372996591e-05, -3.534415372996591e-05, -3.534415372996591e-05, -3.534415372996591e-05, -3.534415372996591e-05, -3.534415372996591e-05, -3.534415372996591e-05, -3.534415372996591e-05, -3.534415372996591e-05, -3.534415372996591e-05, -3.534415372996591e-05, -3.534415372996591e-05, -3.534415372996591e-05, -3.534415372996591e-05, -3.534415372996591e-05, -3.534415372996591e-05, -3.534415372996591e-05, -3.534415372996591e-05, -3.534415372996591e-05, -3.534415372996591e-05, -3.534415372996591e-05, -3.534415372996591e-05, -3.534415372996591e-05, -3.534415372996591e-05, -3.534415372996591e-05, -3.534415372996591e-05, -3.534415372996591e-05, -3.534415372996591e-05, -3.534415372996591e-05, -3.534415372996591e-05, -3.534415372996591e-05, -3.534415372996591e-05, -3.534415372996591e-05, -3.534415372996591e-05, -3.534415372996591e-05, -3.534415372996591e-05, -3.534415372996591e-05, -3.534415372996591e-05, -3.534415372996591e-05, -3.534415372996591e-05, -3.534415372996591e-05, -3.534415372996591e-05, -3.534415372996591e-05, -3.534415372996591e-05, -3.534415372996591e-05, -3.534415372996591e-05, -3.534415372996591e-05, -3.534415372996591e-05, -3.534415372996591e-05, -3.534415372996591e-05, -3.534415372996591e-05, -3.534415372996591e-05, -3.534415372996591e-05, -3.534415372996591e-05, -3.534415372996591e-05, -3.534415372996591e-05, -3.534415372996591e-05, -3.534415372996591e-05, -3.534415372996591e-05, -3.534415372996591e-05, -3.534415372996591e-05, -3.534415372996591e-05, -3.534415372996591e-05, -3.534415372996591e-05, -3.534415372996591e-05, -3.534415372996591e-05, -3.534415372996591e-05, -3.534415372996591e-05, -3.534415372996591e-05, -3.534415372996591e-05, -3.534415372996591e-05, -3.534415372996591e-05, -3.534415372996591e-05, -3.534415372996591e-05, -3.534415372996591e-05, -3.534415372996591e-05, -3.534415372996591e-05, -3.534415372996591e-05, -3.534415372996591e-05, -3.534415372996591e-05, -3.534415372996591e-05, -3.534415372996591e-05, -3.534415372996591e-05, -3.534415372996591e-05, -3.534415372996591e-05, -3.534415372996591e-05, -3.534415372996591e-05, -3.534415372996591e-05, -3.534415372996591e-05, -3.534415372996591e-05, -3.534415372996591e-05, -3.534415372996591e-05, -3.534415372996591e-05, -3.534415372996591e-05, -3.534415372996591e-05, -3.534415372996591e-05, -3.534415372996591e-05, -3.534415372996591e-05, -3.534415372996591e-05, -3.534415372996591e-05, -3.534415372996591e-05, -3.534415372996591e-05, -3.534415372996591e-05, -3.534415372996591e-05, -3.534415372996591e-05, -3.534415372996591e-05, -3.534415372996591e-05, -3.534415372996591e-05, -3.534415372996591e-05, -3.534415372996591e-05, -3.534415372996591e-05, -3.534415372996591e-05, -3.534415372996591e-05, -3.534415372996591e-05, -3.534415372996591e-05, -3.534415372996591e-05, -3.534415372996591e-05, -3.534415372996591e-05, -3.534415372996591e-05, -3.534415372996591e-05, -3.534415372996591e-05, -3.534415372996591e-05, -3.534415372996591e-05, -3.534415372996591e-05, -3.534415372996591e-05, -3.534415372996591e-05, -3.534415372996591e-05, -3.534415372996591e-05, -3.534415372996591e-05, -3.534415372996591e-05, -3.534415372996591e-05, -3.534415372996591e-05, -3.534415372996591e-05, -3.534415372996591e-05, -3.534415372996591e-05, -3.534415372996591e-05, -3.534415372996591e-05, -3.534415372996591e-05, -3.534415372996591e-05, -3.534415372996591e-05, -3.534415372996591e-05, -3.534415372996591e-05, -3.534415372996591e-05, -3.534415372996591e-05, -3.534415372996591e-05, -3.534415372996591e-05, -3.534415372996591e-05, -3.534415372996591e-05]\n",
      "[0.0, 0.0, 0.0, 0.0, 0.0, 0.0, 0.0, 0.0, 0.0, 0.0, 0.0, 0.0, 0.0, 0.0, 0.0, 0.0, 0.0, 0.0, 0.0, 0.0, 0.0, 0.0, 0.0, 0.0, 0.0, 0.0, 0.0, 0.0, 0.0, 0.0, 0.0, 0.0, 0.0, 0.0, 0.0, 0.0, 0.0, 0.0, 0.0, 0.0, 0.0, 0.0, 0.0, 0.0, 0.0, 0.0, 0.0, 0.0, 0.0, 0.0, 0.0, 0.0, 0.0, 0.0, 0.0, 0.0, 0.0, 0.0, 0.0, 0.0, 0.0, 0.0, 0.0, 0.0, 0.0, 0.0, 0.0, 0.0, 0.0, 0.0, 0.0, 0.0, 0.0, 0.0, 0.0, 0.0, 0.0, 0.0, 0.0, 0.0, 0.0, 0.0, 0.0, 0.0, 0.0, 0.0, 0.0, 0.0, 0.0, 0.0, 0.0, 0.0, 0.0, 0.0, 0.0, 7.929910659790039, 5.117152690887451, 4.20103120803833, 3.9519710540771484, 0.0, 0.0, 0.0, 0.0, 0.0, 0.0, 0.0, 0.0, 0.0, 0.0, 0.0, 0.0, 0.0, 0.0, 0.0, 0.0, 0.0, 0.0, 0.0, 0.0, 0.0, 0.0, 0.0, 0.0, 0.0, 0.0, 0.0, 0.0, 0.0, 0.0, 0.0, 0.0, 0.0, 0.0, 0.0, 0.0, 0.0, 0.0, 0.0, 0.0, 0.0, 0.0, 0.0, 0.0, 0.0, 0.0, 0.0, 0.0, 0.0, 0.0, 0.0, 0.0, 0.0, 0.0, 0.0, 0.0, 0.0, 0.0, 0.0, 0.0, 0.0, 0.0, 0.0, 0.0, 0.0, 0.0, 0.0, 0.0, 0.0, 0.0, 8.36934757232666, 5.060985088348389, 4.9249091148376465, 4.677902698516846, 4.303753852844238, 4.102958679199219, 3.6682896614074707, 3.5519540309906006, 3.0090441703796387, 4.098237991333008, 2.293736219406128, 0.0, 0.0, 0.0, 0.0, 0.0, 0.0, 0.0, 0.0, 0.0, 0.0, 0.0, 0.0, 0.0, 0.0, 0.0, 0.0, 0.0, 0.0, 0.0, 0.0, 0.0, 0.0, 0.0, 0.0, 0.0, 0.0, 0.0, 0.0, 0.0, 0.0, 0.0, 0.0, 0.0, 0.0, 0.0, 0.0, 0.0, 0.0, 0.0, 0.0, 0.0, 0.0, 0.0, 0.0, 0.0, 0.0, 0.0, 0.0, 0.0, 0.0, 0.0, 0.0, 0.0, 0.0, 0.0, 0.0, 0.0, 0.0, 0.0, 0.0, 0.0, 0.0, 0.0, 0.0, 0.0, 0.0, 0.0, 0.0, 0.0, 0.0, 0.0, 0.0, 0.0, 0.0, 4.618104934692383, 3.6434948444366455, 3.2369062900543213, 2.8372340202331543, 2.3105456829071045, 2.2431910037994385, 1.584728717803955, 1.5755528211593628, 1.003488302230835, 0.9982379674911499, 0.46496152877807617, 0.5816915035247803, 0.0, 0.46430787444114685, 0.32638201117515564, 0.13370487093925476, 0.12286705523729324, 0.07084047794342041, 0.08547632396221161, 0.0, 0.0, 0.0, 0.0, 0.0, 0.0, 0.0, 0.0, 0.0, 0.0, 0.0, 0.0, 0.0, 0.0, 0.0, 0.0, 0.0, 0.0, 0.0, 0.0, 0.0, 0.0, 0.0, 0.0, 0.0, 0.0, 0.0]\n",
      "Saved figure force_pred.png\n",
      "Exception ignored in: <function VectorEnv.__del__ at 0x7f95891f51b0>\n",
      "Traceback (most recent call last):\n",
      "  File \"/home/Morphabledrone/miniconda3/envs/mani/lib/python3.10/site-packages/gymnasium/vector/vector_env.py\", line 330, in __del__\n",
      "  File \"/home/Morphabledrone/miniconda3/envs/mani/lib/python3.10/site-packages/mani_skill/vector/wrappers/gymnasium.py\", line 157, in close\n",
      "  File \"/home/Morphabledrone/miniconda3/envs/mani/lib/python3.10/site-packages/gymnasium/core.py\", line 475, in close\n",
      "  File \"/home/Morphabledrone/miniconda3/envs/mani/lib/python3.10/site-packages/gymnasium/core.py\", line 475, in close\n",
      "  File \"/home/Morphabledrone/miniconda3/envs/mani/lib/python3.10/site-packages/gymnasium/core.py\", line 475, in close\n",
      "  File \"/home/Morphabledrone/miniconda3/envs/mani/lib/python3.10/site-packages/mani_skill/envs/sapien_env.py\", line 1114, in close\n",
      "  File \"/home/Morphabledrone/miniconda3/envs/mani/lib/python3.10/site-packages/mani_skill/envs/sapien_env.py\", line 1111, in _clear\n",
      "TypeError: 'NoneType' object is not callable\n",
      "Exception ignored in: <function VectorEnv.__del__ at 0x7f95891f51b0>\n",
      "Traceback (most recent call last):\n",
      "  File \"/home/Morphabledrone/miniconda3/envs/mani/lib/python3.10/site-packages/gymnasium/vector/vector_env.py\", line 330, in __del__\n",
      "  File \"/home/Morphabledrone/miniconda3/envs/mani/lib/python3.10/site-packages/mani_skill/vector/wrappers/gymnasium.py\", line 157, in close\n",
      "  File \"/home/Morphabledrone/miniconda3/envs/mani/lib/python3.10/site-packages/mani_skill/utils/wrappers/record.py\", line 783, in close\n",
      "  File \"/home/Morphabledrone/miniconda3/envs/mani/lib/python3.10/site-packages/mani_skill/utils/wrappers/record.py\", line 70, in clean_trajectories\n",
      "  File \"/home/Morphabledrone/miniconda3/envs/mani/lib/python3.10/site-packages/h5py/_hl/base.py\", line 453, in keys\n",
      "TypeError: 'NoneType' object is not callable\n"
     ]
    }
   ],
   "source": [
    "!python ppo_rgb_drew.py --env_id=\"PlaySoccer-v1\" \\\n",
    "  --evaluate --checkpoint=runs/custom-ppo-rgb-Socker-v1-pred-dist-Dec13_3/ckpt_676.pt \\\n",
    "  --num_eval_envs=1 --num-eval-steps=300 --seed 54763"
   ]
  },
  {
   "cell_type": "code",
   "execution_count": null,
   "metadata": {},
   "outputs": [],
   "source": [
    "## THE FACT THAT IT SAYS 0 EPISODES IS CONCERNING..."
   ]
  }
 ],
 "metadata": {
  "kernelspec": {
   "display_name": "mani",
   "language": "python",
   "name": "python3"
  },
  "language_info": {
   "codemirror_mode": {
    "name": "ipython",
    "version": 3
   },
   "file_extension": ".py",
   "mimetype": "text/x-python",
   "name": "python",
   "nbconvert_exporter": "python",
   "pygments_lexer": "ipython3",
   "version": "3.10.15"
  }
 },
 "nbformat": 4,
 "nbformat_minor": 2
}
